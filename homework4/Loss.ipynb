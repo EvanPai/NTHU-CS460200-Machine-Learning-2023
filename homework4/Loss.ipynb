{
 "cells": [
  {
   "cell_type": "markdown",
   "id": "0e948ed1",
   "metadata": {},
   "source": [
    "# refer HW3"
   ]
  },
  {
   "cell_type": "code",
   "execution_count": 1,
   "id": "a1776ca3",
   "metadata": {},
   "outputs": [],
   "source": [
    "import numpy as np\n",
    "import matplotlib.pyplot as plt\n",
    "from sklearn.metrics import f1_score\n",
    "import math"
   ]
  },
  {
   "cell_type": "code",
   "execution_count": 2,
   "id": "c7ddb041",
   "metadata": {},
   "outputs": [],
   "source": [
    "# GRADED FUNCTION: compute_CCE_loss\n",
    "\n",
    "def compute_CCE_loss(AL, Y):\n",
    "    \"\"\"\n",
    "    Implement the categorical cross-entropy loss function using the above formula.\n",
    "\n",
    "    Arguments:\n",
    "    AL -- probability vector corresponding to your label predictions, shape (n, C)\n",
    "    Y -- true \"label\" vector (one hot vector, for example: [1,0,0] represents rock, [0,1,0] represents paper, [0,0,1] represents scissors\n",
    "                                      in a Rock-Paper-Scissors, shape: (n, C)\n",
    "\n",
    "    Returns:\n",
    "    loss -- categorical cross-entropy loss\n",
    "    \"\"\"\n",
    "\n",
    "    n = Y.shape[0]\n",
    "\n",
    "    # Compute loss from aL and y.\n",
    "    ### START CODE HERE ### (≈ 1 line of code)\n",
    "    loss = - (1 / n) * np.sum(Y * np.log(AL + 1e-5))\n",
    "    ### END CODE HERE ###\n",
    "\n",
    "    loss = np.squeeze(loss)      # To make sure your loss's shape is what we expect (e.g. this turns [[17]] into 17).\n",
    "    assert(loss.shape == ())\n",
    "\n",
    "    return loss"
   ]
  },
  {
   "cell_type": "code",
   "execution_count": 3,
   "id": "83866a19",
   "metadata": {},
   "outputs": [],
   "source": [
    "def compute_focal_loss(AL, Y, alpha, gamma):\n",
    "\n",
    "    # Compute loss from aL and y.\n",
    "    ### START CODE HERE ### (10 line of code)\n",
    "    n = Y.shape[0]\n",
    "\n",
    "    epsilon = 1e-5\n",
    "    #print(\"AL: \" + str(AL.shape) + \" | Y: \" + str(Y.shape))\n",
    "    p_t = AL[np.arange(n), Y.argmax(axis=1)]  # Extract predicted probabilities for the true class\n",
    "    alpha_t = alpha[Y.argmax(axis=1)]  # Extract alpha values for the true class\n",
    "\n",
    "    loss = - (1 / n) * np.sum(alpha_t * (1 - p_t)**gamma * np.log(p_t + epsilon))\n",
    "    ### END CODE HERE ###\n",
    "\n",
    "    loss = np.squeeze(loss)\n",
    "    assert(loss.shape == ())\n",
    "\n",
    "    return loss"
   ]
  }
 ],
 "metadata": {
  "kernelspec": {
   "display_name": "Python 3.11.5 ('biopsy')",
   "language": "python",
   "name": "python3"
  },
  "language_info": {
   "codemirror_mode": {
    "name": "ipython",
    "version": 3
   },
   "file_extension": ".py",
   "mimetype": "text/x-python",
   "name": "python",
   "nbconvert_exporter": "python",
   "pygments_lexer": "ipython3",
   "version": "3.10.2"
  },
  "vscode": {
   "interpreter": {
    "hash": "bc07a8c6aa785ccbb5cb0815abffaffb139b111aca417c4ffe9bf221bae76ba2"
   }
  }
 },
 "nbformat": 4,
 "nbformat_minor": 5
}
