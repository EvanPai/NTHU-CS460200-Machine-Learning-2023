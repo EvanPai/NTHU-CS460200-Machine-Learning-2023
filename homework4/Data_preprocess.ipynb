{
 "cells": [
  {
   "cell_type": "markdown",
   "id": "0b98f535",
   "metadata": {},
   "source": [
    "# Data Preprocess\n",
    ">*  Please do not modify this file\n",
    "\n"
   ]
  },
  {
   "cell_type": "code",
   "execution_count": 1,
   "id": "d6334494",
   "metadata": {},
   "outputs": [],
   "source": [
    "import numpy as np\n",
    "import matplotlib.pyplot as plt\n",
    "from sklearn.metrics import f1_score\n",
    "import math"
   ]
  },
  {
   "cell_type": "code",
   "execution_count": 3,
   "id": "b57e36b8",
   "metadata": {},
   "outputs": [],
   "source": [
    "# load data\n",
    "def load_data(path):\n",
    "    data = np.load(path)\n",
    "    X_train = data[\"x_train\"]\n",
    "    Y_train = data[\"y_train\"]\n",
    "    X_test = data[\"x_test\"]\n",
    "\n",
    "    # summarize loaded dataset\n",
    "    print(f'Train: X={X_train.shape}, Y={Y_train.shape}')\n",
    "    print(f'Test: X={X_test.shape}')\n",
    "    # plot first few images\n",
    "    for i in range(9):\n",
    "        # define subplot\n",
    "        plt.subplot(330 + 1 + i)\n",
    "        # plot raw pixel data\n",
    "        plt.imshow(X_train[i], cmap='gray', vmin=0, vmax=255)\n",
    "    # show the figure\n",
    "    plt.show()\n",
    "\n",
    "\n",
    "    # GRADED CODE: multi-class classification (Data preprocessing)\n",
    "    ### START CODE HERE ###\n",
    "    def one_hot_encoding(label, num_of_classes=10):\n",
    "        one_hot_label = np.zeros(num_of_classes)\n",
    "        one_hot_label[int(label)] = 1\n",
    "        return one_hot_label\n",
    "\n",
    "    Y_train = np.array([one_hot_encoding(label) for label in Y_train])\n",
    "    ### END CODE HERE ###\n",
    "\n",
    "    print(\"shape of X_train: \" + str(X_train.shape))\n",
    "    print(\"shape of Y_train: \" + str(Y_train.shape))\n",
    "    print(\"shape of X_test: \" + str(X_test.shape))\n",
    "\n",
    "    # GRADED CODE: multi-class classification (Data preprocessing)\n",
    "    ### START CODE HERE ###\n",
    "    X_train = X_train.reshape(X_train.shape[0], -1) / 255.\n",
    "    X_test = X_test.reshape(X_test.shape[0], -1) / 255.\n",
    "    ### END CODE HERE ###\n",
    "\n",
    "    print(\"\\nshape of X_train: \" + str(X_train.shape))\n",
    "    print(\"shape of Y_train: \" + str(Y_train.shape))\n",
    "    print(\"shape of X_test: \" + str(X_test.shape))\n",
    "    \n",
    "    return X_train, Y_train, X_test"
   ]
  },
  {
   "cell_type": "code",
   "execution_count": 4,
   "id": "4d93ce50",
   "metadata": {},
   "outputs": [],
   "source": [
    "def data_preprocess(X_train, Y_train):\n",
    "\n",
    "    np.random.seed(1)\n",
    "    permutation = list(np.random.permutation(X_train.shape[0]))\n",
    "    X_train = X_train[permutation, :]\n",
    "    Y_train = Y_train[permutation, :]\n",
    "\n",
    "    n = X_train.shape[0]\n",
    "    x_train = X_train[:int(n*0.8), :]\n",
    "    y_train = Y_train[:int(n*0.8), :]\n",
    "    x_val = X_train[int(n*0.8):, :]\n",
    "    y_val = Y_train[int(n*0.8):, :]\n",
    "\n",
    "    print(\"shape of x_train: \" + str(x_train.shape))\n",
    "    print(\"shape of y_train: \" + str(y_train.shape))\n",
    "    label_cnt = np.sum(y_train, axis=0)\n",
    "    print(f'training data - percentage {[round(n / np.sum(np.array(label_cnt)), 2) for n in label_cnt]}')\n",
    "    if x_val is not None and y_val is not None:\n",
    "        print(\"shape of x_val: \" + str(x_val.shape))\n",
    "        print(\"shape of y_val: \" + str(y_val.shape))\n",
    "        label_cnt = np.sum(y_val, axis=0)\n",
    "        print(f'validation data - percentage {[round(n / np.sum(np.array(label_cnt)), 2) for n in label_cnt]}')\n",
    "\n",
    "    if x_val is not None and y_val is not None:\n",
    "        fig, axes = plt.subplots(1, 2, figsize=(10, 4))  # 1 row, 2 columns\n",
    "        width = 0.4\n",
    "        axes[0].bar(np.arange(10), np.sum(y_train, axis=0), width, color='b')\n",
    "        axes[0].set_title('train')\n",
    "        axes[0].set_xlabel('label')\n",
    "        axes[0].set_ylabel('count')\n",
    "\n",
    "        axes[1].bar(np.arange(10), np.sum(y_val, axis=0), width, color='b')\n",
    "        axes[1].set_title('val')\n",
    "        axes[0].set_xlabel('label')\n",
    "\n",
    "        plt.tight_layout()\n",
    "        plt.show()\n",
    "    else:\n",
    "        plt.bar(np.arange(10), np.sum(y_train, axis=0))\n",
    "        plt.title('train')\n",
    "        plt.xlabel('label')\n",
    "        plt.ylabel('count')\n",
    "        plt.show()\n",
    "    \n",
    "    return x_train, y_train, x_val, y_val"
   ]
  }
 ],
 "metadata": {
  "kernelspec": {
   "display_name": "Python 3.11.5 ('biopsy')",
   "language": "python",
   "name": "python3"
  },
  "language_info": {
   "codemirror_mode": {
    "name": "ipython",
    "version": 3
   },
   "file_extension": ".py",
   "mimetype": "text/x-python",
   "name": "python",
   "nbconvert_exporter": "python",
   "pygments_lexer": "ipython3",
   "version": "3.10.2"
  },
  "vscode": {
   "interpreter": {
    "hash": "bc07a8c6aa785ccbb5cb0815abffaffb139b111aca417c4ffe9bf221bae76ba2"
   }
  }
 },
 "nbformat": 4,
 "nbformat_minor": 5
}
